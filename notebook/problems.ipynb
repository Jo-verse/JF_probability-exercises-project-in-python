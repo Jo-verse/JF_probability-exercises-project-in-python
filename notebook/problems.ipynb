{
 "cells": [
  {
   "cell_type": "markdown",
   "id": "a41f3622",
   "metadata": {},
   "source": [
    "# Probability exercises"
   ]
  },
  {
   "cell_type": "markdown",
   "id": "a6bdbd89",
   "metadata": {},
   "source": [
    "## Exercise 1 \n",
    "\n",
    "Two dices are thrown once and the total score is observed. Use a simulation to find the estimated probability that the total score is even or greater than 7.  A simulation is a repetition of the same experiment multiple times to observe its behavior:\n",
    "\n",
    "- Run the experiment 1000 times (roll 2 dice 1000 times, and sum the number of both dices).\n",
    "- Keep track of the number of times that the sum was either greater than 7 or an even number.\n",
    "- Divide the number from step 2 by the number of iterations (1000)."
   ]
  },
  {
   "cell_type": "code",
   "execution_count": 24,
   "id": "8939d892",
   "metadata": {},
   "outputs": [
    {
     "name": "stdout",
     "output_type": "stream",
     "text": [
      "Favorable cases: \n",
      "690\n",
      "Estimated probability is:\n",
      "69.0 %\n"
     ]
    }
   ],
   "source": [
    "import numpy as np\n",
    "\n",
    "num_simulations = 1000\n",
    "\n",
    "dice_1 = np.random.randint(1,7,num_simulations)\n",
    "dice_2 = np.random.randint(1,7,num_simulations)\n",
    "\n",
    "total_score = dice_1 + dice_2\n",
    "\n",
    "favorable_cases = np.sum((total_score % 2 == 0) | (total_score > 7))\n",
    "print(\"Favorable cases: \")\n",
    "print(favorable_cases)\n",
    "\n",
    "estimated_probability = favorable_cases / num_simulations\n",
    "percentage_probability = estimated_probability * 100\n",
    "print(\"Estimated probability is:\")\n",
    "print(percentage_probability , \"%\")"
   ]
  },
  {
   "cell_type": "markdown",
   "id": "55732bca",
   "metadata": {},
   "source": [
    "## Exercise 2\n",
    "\n",
    "A box contains 10 white balls, 20 red balls and 30 green balls. If we take 5 balls from the box with replacement (we take the ball, observe what color it is and put it back into the box). We want to know the probability of:\n",
    "\n",
    "1. Take 3 white and 2 red.\n",
    "2. Take all of the same color.\n",
    "\n",
    "Run the experiment 1000 times and calculate the above probabilities."
   ]
  },
  {
   "cell_type": "code",
   "execution_count": 33,
   "id": "23244d20",
   "metadata": {},
   "outputs": [
    {
     "name": "stdout",
     "output_type": "stream",
     "text": [
      "📊 Probability of drawing 3 white and 2 red: 0.004\n",
      "📊 Probability of drawing 3 white and 2 red: 0.4%\n",
      "📊 Probability of drawing 5 of the same color: 0.028\n",
      "📊 Probability of drawing 5 of the same color: 2.8%\n"
     ]
    }
   ],
   "source": [
    "\n",
    "prob_white = 10 / 60  # 10 out of 60 are white\n",
    "prob_red = 20 / 60    # 20 out of 60 are red\n",
    "prob_green = 30 / 60  # 30 out of 60 are green\n",
    "\n",
    "\n",
    "# Simulate drawing 5 balls, 1000 times\n",
    "draws = np.random.choice(\n",
    "    [\"White\", \"Red\", \"Green\"],  # The possible ball colors\n",
    "    size=(num_simulations, 5),  # We want 1000 rows of 5 balls each\n",
    "    p=[prob_white, prob_red, prob_green]  # The probability of each color\n",
    ")\n",
    "\n",
    "# How many times we get exactly 3 whites and 2 reds\n",
    "count_white_red = np.sum([np.sum(exp == \"White\") == 3 and np.sum(exp == \"Red\") == 2 for exp in draws])\n",
    "\n",
    "# How many times all balls are the same color\n",
    "count_same_color = np.sum([len(set(exp)) == 1 for exp in draws])  \n",
    "\n",
    "# Probabilities\n",
    "prob_white_red = count_white_red / num_simulations  # Divide by 1000 attempts\n",
    "prob_same_color = count_same_color / num_simulations\n",
    "prob_white_red_percent = round(prob_white_red * 100 , 2)\n",
    "prob_same_color_percent = round(prob_same_color *100 , 2)\n",
    "\n",
    "# The results\n",
    "print(f\"📊 Probability of drawing 3 white and 2 red: {prob_white_red:.3f}\")\n",
    "print(f\"📊 Probability of drawing 3 white and 2 red: {prob_white_red_percent}%\")\n",
    "print(f\"📊 Probability of drawing 5 of the same color: {prob_same_color:.3f}\")\n",
    "print(f\"📊 Probability of drawing 5 of the same color: {prob_same_color_percent}%\")\n",
    "            \n",
    "# TODO"
   ]
  }
 ],
 "metadata": {
  "kernelspec": {
   "display_name": "Python 3",
   "language": "python",
   "name": "python3"
  },
  "language_info": {
   "codemirror_mode": {
    "name": "ipython",
    "version": 3
   },
   "file_extension": ".py",
   "mimetype": "text/x-python",
   "name": "python",
   "nbconvert_exporter": "python",
   "pygments_lexer": "ipython3",
   "version": "3.11.4"
  }
 },
 "nbformat": 4,
 "nbformat_minor": 5
}
